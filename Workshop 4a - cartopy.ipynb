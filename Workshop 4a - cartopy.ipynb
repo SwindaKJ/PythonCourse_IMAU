{
 "cells": [
  {
   "cell_type": "markdown",
   "id": "cb1cd2f2",
   "metadata": {},
   "source": [
    "# Workshop 4 - cartopy\n",
    "\n",
    "\n",
    "### Credit\n",
    "\n",
    "Once again, much was adapted from the great [Earth and Environmental Data Science](https://earth-env-data-science.github.io/intro) cartopy tutorial which, in turn, adopted much from [Phil Elson](https://pelson.github.io/)'s excellent [Cartopy Tutorial](https://github.com/SciTools/cartopy-tutorial). Phil is the creator of Cartopy and published his tutorial under an [open license](http://www.nationalarchives.gov.uk/doc/open-government-licence/version/3/), meaning that we can copy, adapt, and redistribute it as long as we give proper attribution. **THANKS PHIL!** 👏👏👏\n",
    "\n",
    "## Introduction\n",
    "Making maps is often a fundamental part of geoscience and climate research. But making maps is not straightforward:\n",
    "\n",
    "- Maps require a *projection* of geographic coordinates on the 3D Earth to the 2D space of your figure.\n",
    "- Maps often include extra information besides just our data such as continents, country borders, etc.\n",
    "\n",
    "Mapping is a notoriously hard and complicated problem, mostly due to the complexities of projection and the different possible approaches.\n",
    "\n",
    "In this lecture, we will learn about [Cartopy](https://scitools.org.uk/cartopy/docs/latest/), one of the most common packages for making maps within Python. Another popular and powerful library is [Basemap](https://matplotlib.org/basemap/); however, Basemap is [going away](https://matplotlib.org/basemap/users/intro.html#cartopy-new-management-and-eol-announcement) and being replaced with Cartopy in the near future. For this reason, new Python learners are recommended to learn Cartopy.\n",
    "\n",
    "If you haven't alreay done so, install cartopy with\n",
    "\n",
    "`conda install cartopy`\n",
    "\n",
    "The STA from last year, Janneke, had some problems with her Cartopy installation, so I will put here how she solved it. You might encounter the same problems. First, there was a problem that not all packages were updated to the correct version. If you get an error, first uninstall cartopy with\n",
    "\n",
    "`conda uninstall cartopy`\n",
    "\n",
    "Then update all the packages with\n",
    "\n",
    "`conda update --all`\n",
    "\n",
    "Then re-install cartopy again with `conda install cartopy`.\n",
    "\n",
    "For her, it still gave problems when she wanted to use cartopy, because if you use cartopy, it will download maps from a website and one of the paths was wrong. She got a 'Download error'. This was how she solved it\n",
    "\n",
    "She replaced line 313 in `/Users/janneke/anaconda3/lib/python3.7/site-packages/cartopy/io/shapereader.py`\n",
    "\n",
    "    NE_URL_TEMPLATE = ('https://naciscdn.org/naturalearth/{resolution}'\n",
    "                       '/{category}/ne_{resolution}_{name}.zip')\n",
    "to \n",
    "\n",
    "    _NE_URL_TEMPLATE = ('https://naturalearth.s3.amazonaws.com/{resolution}_{category}/ne_{resolution}_{name}.zip')\n",
    "\n",
    "\n",
    "I hope thas this also solves your problems! \n",
    "\n",
    "Now let's get started!\n"
   ]
  },
  {
   "cell_type": "markdown",
   "id": "0c20a711",
   "metadata": {},
   "source": [
    "### Most of our media for visualization *are* flat\n",
    "\n",
    "Two of the most common media actually are flat. Here are examples: a paper and a screen:\n",
    "\n",
    "![](https://raw.githubusercontent.com/SciTools/cartopy-tutorial/master/static/flat_medium.jpg)\n",
    "\n",
    "### Projections: Taking us from spherical to flat\n",
    "\n",
    "A map projection (or more commonly refered to as just \"projection\") is:\n",
    "\n",
    "> a systematic transformation of the latitudes and longitudes of locations from the surface of a sphere or an ellipsoid into locations on a plane. [[Wikipedia: Map projection](https://en.wikipedia.org/wiki/Map_projection)].\n",
    "\n",
    "So, in other words, we have to map a 3D sphere to a flat, 2D space.\n",
    "\n",
    "### The major problem with map projections\n",
    "\n",
    "The surface of a sphere is topologically different to a 2D surface, therefore we *have* to cut the sphere *somewhere*.\n",
    "This means that a sphere's surface cannot be represented on a plane without distortion. See for example this orange:\n",
    "\n",
    "![orange peel](https://raw.githubusercontent.com/SciTools/cartopy-tutorial/master/static/orange_peel.jpg)\n",
    "\n",
    "\n",
    " \n",
    " ### Common distortions of map projections\n",
    "\n",
    "Metric properties of maps that are often not preserved:\n",
    "\n",
    "* Area\n",
    "* Shape\n",
    "* Direction\n",
    "* Distance\n",
    "* Scale\n",
    "\n",
    "> all ~~models~~ map projections are wrong, but some are useful - Phileas Elson (SciPy 2018)\n",
    "\n",
    "## Classifying projections\n",
    "\n",
    "There are many different ways to make a projection, and we will not attempt to explain all of the choices and tradeoffs here. Instead, you can read Phil's [original tutorial](https://github.com/SciTools/cartopy-tutorial/blob/master/tutorial/projections_crs_and_terms.ipynb) for a great overview of this topic.\n",
    "Instead, we will very briefly discuss a few projections and then we will dive into the more practical sides of Cartopy usage.\n",
    "\n",
    "Two common approaches are:\n",
    "\n",
    " 1. By [2D] surface classification\n",
    " 2. By a preserving metric\n",
    " \n",
    "### Projections by surface classification\n",
    "\n",
    "![](https://raw.githubusercontent.com/SciTools/cartopy-tutorial/master/static/projections.gif)\n",
    "\n",
    "Downside: Not all projections can be classified in this way -> Leads to big \"pseudo\" and \"other\" groups.\n",
    "\n",
    "\n",
    "### Preserving metric: Conformal\n",
    "\n",
    "There are many metrics that can be conserved: angles, areas and distance or combinations of these two. Here, we only want to discuss briefly the conformal projection, which is also known as Orthomorphic.\n",
    "\n",
    "These projections preserve angles locally. Implying that circles anywhere on the Earth's surface map to circles of *varying size* in the projected space.\n",
    "\n",
    "Examples of conformal projections:\n",
    "\n",
    " * Mercator\n",
    " * Transverse Mercator\n",
    " * Stereographic\n",
    " * Lambert conformal conic\n",
    "\n",
    "## Using Cartopy\n",
    "\n",
    "\n",
    "For more details see the [Cartopy documentation](https://scitools.org.uk/cartopy/docs/latest/).\n",
    "\n",
    "Cartopy makes use of a powerful library for coordinate transformations called [PROJ.4](https://proj4.org/). It also uses Numpy and shapely libraries and includes a programatic interface built on top of Matplotlib for the creation of publication quality maps.\n",
    "\n",
    "Key features of Cartopy are its object oriented projection definitions, and its ability to transform points, lines, vectors, polygons and images between those projections.\n",
    "\n",
    "### Cartopy Projections and other reference systems\n",
    "\n",
    "In Cartopy, each projection is a class.\n",
    "Most classes of projection can be configured in projection-specific ways, although there are some exceptions.\n",
    "\n",
    "Let's create a Plate Carree projection instance.\n",
    "\n",
    "To do so, we need Cartopy's crs module. This is typically imported as ``ccrs`` (Cartopy Coordinate Reference Systems)."
   ]
  },
  {
   "cell_type": "code",
   "execution_count": null,
   "id": "7ec060f5",
   "metadata": {},
   "outputs": [],
   "source": [
    "import numpy as np\n",
    "import cartopy.crs as ccrs\n",
    "import cartopy"
   ]
  },
  {
   "cell_type": "markdown",
   "id": "abec172e",
   "metadata": {},
   "source": [
    "Cartopy's projection list tells us that the Plate Carree projection is available with the ``ccrs.PlateCarree`` class:\n",
    "\n",
    "https://scitools.org.uk/cartopy/docs/latest/crs/projections.html\n",
    "\n",
    "**Note:** we need to *instantiate* the class in order to do anything projection-y with it! So we do that below:"
   ]
  },
  {
   "cell_type": "code",
   "execution_count": null,
   "id": "77ffde5c",
   "metadata": {},
   "outputs": [],
   "source": [
    "ccrs.PlateCarree()"
   ]
  },
  {
   "cell_type": "markdown",
   "id": "871d6105",
   "metadata": {},
   "source": [
    "### Drawing a map\n",
    "\n",
    "Cartopy optionally depends upon Matplotlib, and each projection knows how to create a matplotlib Axes (or AxesSubplot) that can represent itself.\n",
    "\n",
    "The Axes that the projection creates is a [cartopy.mpl.geoaxes.GeoAxes](https://scitools.org.uk/cartopy/docs/latest/matplotlib/geoaxes.html#cartopy.mpl.geoaxes.GeoAxes). This Axes subclass overrides some of matplotlib's existing methods, and adds a number of extremely useful ones for drawing maps.\n",
    "\n",
    "We'll go back and look at those methods shortly, but first, let's actually see the Cartopy+Matplotlib dance in action:"
   ]
  },
  {
   "cell_type": "code",
   "execution_count": null,
   "id": "875d9b6f",
   "metadata": {},
   "outputs": [],
   "source": [
    "%matplotlib inline\n",
    "import matplotlib.pyplot as plt\n",
    "\n",
    "plt.axes(projection=ccrs.PlateCarree())"
   ]
  },
  {
   "cell_type": "markdown",
   "id": "f2e63363",
   "metadata": {},
   "source": [
    "That was a little underwhelming, but we can see that the Axes created is indeed one of those GeoAxes[Subplot] instances.\n",
    "\n",
    "One of the most useful methods that this class adds on top of the standard matplotlib Axes class is the ``coastlines`` method. With no arguments, it will add the Natural Earth ``1:110,000,000`` scale coastline data to the map."
   ]
  },
  {
   "cell_type": "code",
   "execution_count": null,
   "id": "3c12f008",
   "metadata": {},
   "outputs": [],
   "source": [
    "plt.figure()\n",
    "ax = plt.axes(projection=ccrs.PlateCarree())\n",
    "ax.coastlines()"
   ]
  },
  {
   "cell_type": "markdown",
   "id": "ee4bd2da",
   "metadata": {},
   "source": [
    "We could just as equally created a Matplotlib subplot with one of the many approaches that exist. For example, the ```plt.subplots``` function could be used:"
   ]
  },
  {
   "cell_type": "code",
   "execution_count": null,
   "id": "86f0f2ab",
   "metadata": {},
   "outputs": [],
   "source": [
    "fig, ax = plt.subplots(subplot_kw=dict(projection=ccrs.PlateCarree()))\n",
    "ax.coastlines()"
   ]
  },
  {
   "cell_type": "markdown",
   "id": "7e9691e8",
   "metadata": {},
   "source": [
    "Projection classes have options we can use to customize the map, we can investigate all the options using `help`"
   ]
  },
  {
   "cell_type": "code",
   "execution_count": null,
   "id": "24813177",
   "metadata": {},
   "outputs": [],
   "source": [
    "help(ccrs.PlateCarree)"
   ]
  },
  {
   "cell_type": "markdown",
   "id": "46feca9f",
   "metadata": {},
   "source": [
    "Using the information from above, we create a global Plate Carree map with coastlines that is centered on the dateline (180 degrees longitude), rather than the Greenwich Prime meridian."
   ]
  },
  {
   "cell_type": "code",
   "execution_count": null,
   "id": "316558ee",
   "metadata": {},
   "outputs": [],
   "source": [
    "ax = plt.axes(projection=ccrs.PlateCarree(central_longitude=180))\n",
    "ax.coastlines()"
   ]
  },
  {
   "cell_type": "markdown",
   "id": "c41a1761",
   "metadata": {},
   "source": [
    "### Useful methods of a GeoAxes\n",
    "\n",
    "The [cartopy.mpl.geoaxes.GeoAxes](https://scitools.org.uk/cartopy/docs/latest/matplotlib/geoaxes.html#cartopy.mpl.geoaxes.GeoAxes) class adds a number of useful methods.\n",
    "\n",
    "Let's take a look at:\n",
    "\n",
    " * [set_global](https://scitools.org.uk/cartopy/docs/latest/matplotlib/geoaxes.html#cartopy.mpl.geoaxes.GeoAxes.set_global) - zoom the map out as much as possible\n",
    " * [set_extent](https://scitools.org.uk/cartopy/docs/latest/matplotlib/geoaxes.html#cartopy.mpl.geoaxes.GeoAxes.set_extent) - zoom the map to the given bounding box\n",
    " \n",
    "\n",
    " * [gridlines](https://scitools.org.uk/cartopy/docs/latest/matplotlib/geoaxes.html#cartopy.mpl.geoaxes.GeoAxes.graticule) - add a graticule (and optionally labels) to the axes\n",
    " * [coastlines](https://scitools.org.uk/cartopy/docs/latest/matplotlib/geoaxes.html#cartopy.mpl.geoaxes.GeoAxes.coastlines) - add Natural Earth coastlines to the axes\n",
    " * [stock_img](https://scitools.org.uk/cartopy/docs/latest/matplotlib/geoaxes.html#cartopy.mpl.geoaxes.GeoAxes.stock_img) - add a low-resolution Natural Earth background image to the axes\n",
    " \n",
    " \n",
    " * [imshow](https://matplotlib.org/api/_as_gen/matplotlib.axes.Axes.imshow.html#matplotlib.axes.Axes.imshow) - add an image (numpy array) to the axes\n",
    " * [add_geometries](https://scitools.org.uk/cartopy/docs/latest/matplotlib/geoaxes.html#cartopy.mpl.geoaxes.GeoAxes.add_geometries) - add a collection of geometries (Shapely) to the axes\n",
    " \n",
    "### Some More Examples of Different Global Projections\n",
    "\n",
    "Here, we use several of the options above!"
   ]
  },
  {
   "cell_type": "code",
   "execution_count": null,
   "id": "f6337f90",
   "metadata": {},
   "outputs": [],
   "source": [
    "plt.figure()\n",
    "ax = plt.axes(projection=ccrs.PlateCarree())\n",
    "\n",
    "ax.set_extent([-170, -50, 10, 80])\n",
    "ax.gridlines(draw_labels=True,\n",
    "             color='black', alpha=0.2, linestyle='--')\n",
    "ax.stock_img()"
   ]
  },
  {
   "cell_type": "markdown",
   "id": "0df4faf7",
   "metadata": {},
   "source": [
    "In the following example, we create a large figure with 6 subplots. We loop over a list of 6 different projections and add them to the figure."
   ]
  },
  {
   "cell_type": "code",
   "execution_count": null,
   "id": "4d85e2c6",
   "metadata": {},
   "outputs": [],
   "source": [
    "projections = [ccrs.PlateCarree(),\n",
    "               ccrs.Robinson(),\n",
    "               ccrs.Mercator(),\n",
    "               ccrs.Orthographic(),\n",
    "               ccrs.InterruptedGoodeHomolosine(),\n",
    "               ccrs.LambertAzimuthalEqualArea()\n",
    "              ]\n",
    "\n",
    "fig = plt.figure(figsize=(15,10))\n",
    "for i, proj in enumerate(projections):\n",
    "    ax = fig.add_axes([(i%3)/3, .5-(i%2)/2, .33, .45], projection=proj)\n",
    "    ax.stock_img()\n",
    "    ax.coastlines()\n",
    "    ax.set_title(f'{type(proj)}')"
   ]
  },
  {
   "cell_type": "markdown",
   "id": "15603b86",
   "metadata": {},
   "source": [
    "### Regional Maps\n",
    "\n",
    "To create a regional map, we use the `set_extent` method of GeoAxis to limit the size of the region."
   ]
  },
  {
   "cell_type": "code",
   "execution_count": null,
   "id": "a5382b18",
   "metadata": {},
   "outputs": [],
   "source": [
    "help(ax.set_extent)"
   ]
  },
  {
   "cell_type": "code",
   "execution_count": null,
   "id": "51e1fc41",
   "metadata": {},
   "outputs": [],
   "source": [
    "central_lon, central_lat = -10, 45\n",
    "extent = [-20, 30, 34, 70]\n",
    "ax = plt.axes(projection=ccrs.Orthographic(central_lon, central_lat))\n",
    "ax.set_extent(extent)\n",
    "ax.gridlines()\n",
    "ax.coastlines(resolution='50m') # you can set the resolution to 10, 50 and 110m !"
   ]
  },
  {
   "cell_type": "markdown",
   "id": "86928010",
   "metadata": {},
   "source": [
    "## Adding Features to the Map\n",
    "\n",
    "To give our map more styles and details, we add `cartopy.feature` objects.\n",
    "Many useful features are built in. These \"default features\" are at coarse (110m) resolution.\n",
    "\n",
    "Name | Description\n",
    "-----|------------\n",
    "`cartopy.feature.BORDERS` | Country boundaries\n",
    "`cartopy.feature.COASTLINE` | Coastline, including major islands\n",
    "`cartopy.feature.LAKES` | Natural and artificial lakes\n",
    "`cartopy.feature.LAND` | Land polygons, including major islands\n",
    "`cartopy.feature.OCEAN` | Ocean polygons\n",
    "`cartopy.feature.RIVERS` | Single-line drainages, including lake centerlines\n",
    "`cartopy.feature.STATES` | (limited to the United States at this scale)\n",
    "\n",
    "Below we illustrate these features in a customized map of North America, where we add ocean, land, lakes and rivers!"
   ]
  },
  {
   "cell_type": "code",
   "execution_count": null,
   "id": "4e79cf09",
   "metadata": {},
   "outputs": [],
   "source": [
    "central_lat = 52.1\n",
    "central_lon = 5.12\n",
    "extent = [-20, 30, 34, 70]\n",
    "central_lon = np.mean(extent[:2])\n",
    "central_lat = np.mean(extent[2:])\n",
    "\n",
    "plt.figure(figsize=(12, 6))\n",
    "ax = plt.axes(projection=ccrs.AlbersEqualArea(central_lon, central_lat))\n",
    "ax.set_extent(extent)\n",
    "\n",
    "ax.add_feature(cartopy.feature.OCEAN)\n",
    "ax.add_feature(cartopy.feature.LAND, edgecolor='black')\n",
    "ax.add_feature(cartopy.feature.LAKES, edgecolor='black')\n",
    "ax.add_feature(cartopy.feature.RIVERS)\n",
    "ax.gridlines()"
   ]
  },
  {
   "cell_type": "markdown",
   "id": "528d4aa1",
   "metadata": {},
   "source": [
    "If we want higher-resolution features, Cartopy can automatically download and create them from the [Natural Earth Data](http://www.naturalearthdata.com/) database or the [GSHHS dataset](https://www.ngdc.noaa.gov/mgg/shorelines/gshhs.html) database (this might take a while...)."
   ]
  },
  {
   "cell_type": "code",
   "execution_count": null,
   "id": "04884dd8",
   "metadata": {},
   "outputs": [],
   "source": [
    "rivers_10m = cartopy.feature.NaturalEarthFeature('physical', 'rivers_lake_centerlines', '10m')\n",
    "\n",
    "plt.figure(figsize=(12, 6))\n",
    "ax = plt.axes(projection=ccrs.AlbersEqualArea(central_lon, central_lat))\n",
    "ax.set_extent(extent)\n",
    "\n",
    "ax.add_feature(cartopy.feature.OCEAN)\n",
    "ax.add_feature(cartopy.feature.LAND, edgecolor='black')\n",
    "ax.add_feature(rivers_10m, facecolor='None', edgecolor='b')\n",
    "ax.gridlines()"
   ]
  },
  {
   "cell_type": "markdown",
   "id": "fd556903",
   "metadata": {},
   "source": [
    "## Adding Data to the Map\n",
    "\n",
    "Now that we know how to create a map, let's add our data to it! That's the whole point.\n",
    "\n",
    "Because our map is a Matplotlib axis, we can use all the familiar Matplotlib commands to make plots.\n",
    "By default, the map extent will be adjusted to match the data. We can override this with the `.set_global` or `.set_extent` commands."
   ]
  },
  {
   "cell_type": "code",
   "execution_count": null,
   "id": "0fd99cc1",
   "metadata": {},
   "outputs": [],
   "source": [
    "# create some test data\n",
    "new_york = dict(lon=-74.0060, lat=40.7128)\n",
    "honolulu = dict(lon=-157.8583, lat=21.3069)\n",
    "lons = [new_york['lon'], honolulu['lon']]\n",
    "lats = [new_york['lat'], honolulu['lat']]"
   ]
  },
  {
   "cell_type": "markdown",
   "id": "750fdc37",
   "metadata": {},
   "source": [
    "Key point: **the data also have to be transformed to the projection space**.\n",
    "This is done via the `transform=` keyword in the plotting method. The argument is another `cartopy.crs` object.\n",
    "If you don't specify a transform, Cartopy assume that the data is using the same projection as the underlying GeoAxis.\n",
    "\n",
    "From the [Cartopy Documentation](https://scitools.org.uk/cartopy/docs/latest/tutorials/understanding_transform.html)\n",
    "\n",
    "> The core concept is that the projection of your axes is independent of the coordinate system your data is defined in. The `projection` argument is used when creating plots and determines the projection of the resulting plot (i.e. what the plot looks like). The `transform` argument to plotting functions tells Cartopy what coordinate system your data are defined in."
   ]
  },
  {
   "cell_type": "code",
   "execution_count": null,
   "id": "20acb982",
   "metadata": {},
   "outputs": [],
   "source": [
    "ax = plt.axes(projection=ccrs.PlateCarree())\n",
    "ax.plot(lons, lats, label='Equirectangular straight line')\n",
    "ax.plot(lons, lats, label='Great Circle', transform=ccrs.Geodetic())\n",
    "ax.coastlines()\n",
    "ax.legend()\n",
    "ax.set_global()"
   ]
  },
  {
   "cell_type": "markdown",
   "id": "85584b56",
   "metadata": {},
   "source": [
    "### Plotting 2D (Raster) Data\n",
    "\n",
    "The same principles apply to 2D data. Below we create some example data defined in regular lat / lon coordinates."
   ]
  },
  {
   "cell_type": "code",
   "execution_count": null,
   "id": "6ca84670",
   "metadata": {},
   "outputs": [],
   "source": [
    "lon = np.linspace(-80, 80, 25)\n",
    "lat = np.linspace(30, 70, 25)\n",
    "lon2d, lat2d = np.meshgrid(lon, lat)\n",
    "data = np.cos(np.deg2rad(lat2d) * 4) + np.sin(np.deg2rad(lon2d) * 4)\n",
    "plt.contourf(lon2d, lat2d, data)"
   ]
  },
  {
   "cell_type": "markdown",
   "id": "6205c2d0",
   "metadata": {},
   "source": [
    "Now we create a `PlateCarree` projection and plot the data on it without any `transform` keyword.\n",
    "This happens to work because `PlateCarree` is the simplest projection of lat / lon data."
   ]
  },
  {
   "cell_type": "code",
   "execution_count": null,
   "id": "0b90dc99",
   "metadata": {},
   "outputs": [],
   "source": [
    "ax = plt.axes(projection=ccrs.PlateCarree())\n",
    "ax.set_global()\n",
    "ax.coastlines()\n",
    "ax.contourf(lon, lat, data)"
   ]
  },
  {
   "cell_type": "markdown",
   "id": "07738b73",
   "metadata": {},
   "source": [
    "However, if we try the same thing with a different projection, we get the wrong result."
   ]
  },
  {
   "cell_type": "code",
   "execution_count": null,
   "id": "266d7b85",
   "metadata": {},
   "outputs": [],
   "source": [
    "projection = ccrs.RotatedPole(pole_longitude=-177.5, pole_latitude=37.5)\n",
    "ax = plt.axes(projection=projection)\n",
    "ax.set_global()\n",
    "ax.coastlines()\n",
    "ax.contourf(lon, lat, data)"
   ]
  },
  {
   "cell_type": "markdown",
   "id": "b8dac750",
   "metadata": {},
   "source": [
    "To fix this, we need to pass the correct transform argument to `contourf`:"
   ]
  },
  {
   "cell_type": "code",
   "execution_count": null,
   "id": "8f04d7c0",
   "metadata": {},
   "outputs": [],
   "source": [
    "projection = ccrs.RotatedPole(pole_longitude=-177.5, pole_latitude=37.5)\n",
    "ax = plt.axes(projection=projection)\n",
    "ax.set_global()\n",
    "ax.coastlines()\n",
    "ax.contourf(lon, lat, data, transform=ccrs.PlateCarree())"
   ]
  },
  {
   "cell_type": "markdown",
   "id": "519b6f26",
   "metadata": {},
   "source": [
    "### Showing Images\n",
    "\n",
    "We can plot a satellite image easily on a map if we know its extent. First, download and save the following figure `https://lance-modis.eosdis.nasa.gov/imagery/gallery/2012270-0926/Miriam.A2012270.2050.2km.jpg` (in the same folder as the notebook, otherwise provide the path).\n",
    "\n",
    "Then we can plot the figure over a map. I have added a timing command, because this computation takes a while to run!"
   ]
  },
  {
   "cell_type": "code",
   "execution_count": null,
   "id": "8a1a8fb8",
   "metadata": {},
   "outputs": [],
   "source": [
    "%%time\n",
    "# takes about a minute to transform the image\n",
    "fig = plt.figure(figsize=(8, 12))\n",
    "\n",
    "# this is from the cartopy docs\n",
    "fname = 'data/Miriam.A2012270.2050.2km.jpg'\n",
    "img_extent = (-120.67660000000001, -106.32104523100001,\n",
    "              13.2301484511245, 30.766899999999502)\n",
    "img = plt.imread(fname)\n",
    "\n",
    "extent = [-130,-90,10,35]\n",
    "proj = ccrs.Orthographic(central_longitude=-112, central_latitude=22)\n",
    "ax = plt.axes(projection=proj, extent=extent)\n",
    "ax.gridlines(draw_labels=True)\n",
    "\n",
    "# set a margin around the data\n",
    "# ax.set_xmargin(0.05)\n",
    "# ax.set_ymargin(0.10)\n",
    "\n",
    "# add the image. Because this image was a tif, the \"origin\" of the image is in the\n",
    "# upper left corner\n",
    "ax.imshow(img, origin='upper', extent=img_extent, transform=ccrs.PlateCarree())\n",
    "ax.coastlines(resolution='50m', color='black', linewidth=1)\n",
    "\n",
    "# mark a known place to help us geo-locate ourselves\n",
    "ax.plot(-117.1625, 32.715, 'bo', markersize=7, transform=ccrs.PlateCarree())\n",
    "ax.text(-117, 33, 'San Diego', transform=ccrs.PlateCarree())"
   ]
  },
  {
   "cell_type": "markdown",
   "id": "e5a8d0b4",
   "metadata": {},
   "source": [
    "## Xarray Integration\n",
    "\n",
    "Cartopy transforms can be passed to xarray! This creates a very quick path for creating professional looking maps from netCDF data. As an example, we will load air temperature data from the xarray-tutorial. You may need to install the library `pooch` first (it will tell you if you need that)."
   ]
  },
  {
   "cell_type": "code",
   "execution_count": null,
   "id": "669a434a",
   "metadata": {},
   "outputs": [],
   "source": [
    "import xarray as xr\n",
    "air = xr.tutorial.open_dataset(\"air_temperature\").air\n",
    "air"
   ]
  },
  {
   "cell_type": "markdown",
   "id": "7d9bba5b",
   "metadata": {},
   "source": [
    "First, we use `isel` from xarray, to create a new dataset that contains all temperatures at the first time step. Then we plot the data in Orthographic projection. We have set the extent to global and added coastlines! \n",
    "\n",
    "Note that we both use the keywords `projection` and `transform`. The `projection` argument is used when creating plots and determines the projection of the resulting plot (i.e. what the plot looks like). The `transform` argument to plotting functions tells Cartopy what coordinate system your data are defined in."
   ]
  },
  {
   "cell_type": "code",
   "execution_count": null,
   "id": "a0034ccd",
   "metadata": {},
   "outputs": [],
   "source": [
    "p = air.isel(time=0).plot(\n",
    "    subplot_kws=dict(projection=ccrs.Orthographic(-80, 35), facecolor=\"gray\"),\n",
    "    transform=ccrs.PlateCarree(),\n",
    "    )\n",
    "p.axes.set_global() # what happens if you comment this?\n",
    "p.axes.coastlines()"
   ]
  },
  {
   "cell_type": "markdown",
   "id": "370f48f1",
   "metadata": {},
   "source": [
    "Here we do the same thing, but for a different projection!"
   ]
  },
  {
   "cell_type": "code",
   "execution_count": null,
   "id": "9f4b01ef",
   "metadata": {},
   "outputs": [],
   "source": [
    "fig = plt.figure(figsize=(9,6))\n",
    "ax = plt.axes(projection=ccrs.Robinson(central_longitude=-90))\n",
    "ax.coastlines()\n",
    "ax.gridlines()\n",
    "lons, lats = np.meshgrid(air.lon, air.lat)\n",
    "im = ax.pcolormesh(lons, lats, air.isel(time=0)-273.15, transform=ccrs.PlateCarree())\n",
    "plt.colorbar(im, ax=ax, orientation='horizontal', label=r'2m temperature [$^\\circ$C]')\n",
    "ax.set_global()"
   ]
  },
  {
   "cell_type": "markdown",
   "id": "9cf9bb3c",
   "metadata": {},
   "source": [
    "## Doing More\n",
    "\n",
    "Browse the [Cartopy Gallery](https://scitools.org.uk/cartopy/docs/latest/gallery/index.html) to learn about all the different types of data and plotting methods available!"
   ]
  },
  {
   "attachments": {
    "4a11.png": {
     "image/png": "[encoded data removed]"
    }
   },
   "cell_type": "markdown",
   "id": "e885cda5",
   "metadata": {},
   "source": [
    "## <span style=\"color:blue\">Exercises</span>\n",
    "\n",
    "1. Load the ERA5 wind data taken at different heights (heights are in hPa). \n",
    "```\n",
    "ds = xr.tutorial.open_dataset(name='eraint_uvz')\n",
    "```\n",
    "Plot the u- and v-components at a certain height and at a certian time.\n",
    "mark and label Utrecht in two projections of your choice that are not PlateCarree. Use both xarray's built-in plotting and the matplotlib approach (see above).\n",
    "\n",
    "Use the u- and- components to create a vector plot (quiver) over `stock_img()`. Hint: use the command scale to make sure that the arrows are visibile, the scale will probablly set to abougt 400.\n",
    "\n",
    "The figures could look like this:\n",
    "![4a11.png](attachment:4a11.png)\n",
    "\n",
    "\n",
    "\n",
    "\n",
    "![title](figures/4a13.png)\n",
    "\n"
   ]
  },
  {
   "cell_type": "code",
   "execution_count": null,
   "id": "d5f5797b",
   "metadata": {},
   "outputs": [],
   "source": []
  },
  {
   "cell_type": "markdown",
   "id": "395fa592",
   "metadata": {},
   "source": [
    "2. Recreate the travel map of Phileas Fogg of Jules Verne's _Around the World in Eighty Days_ using geodetics (true shortest paths) and marking the cities as in the Wikipedia article:\n",
    "![](figures/80days.png)\n",
    "     1. Recreate the journey on a Robinson projection.\n",
    "     2. Phileas never left the Northern Hemisphere (and thus did not truly circumnavigate the Earth), so we can plot the full journey in a projection centered around the North Pole.\n",
    "\n",
    "Here are the places you need:\n",
    "```\n",
    "places = {'London': (-0.1276474, 51.5073219),\n",
    "          'Suez': (32.537086, 29.974498),\n",
    "          'Bombay': (72.8882172, 19.1334321),\n",
    "          'Calcutta': (88.3476023, 22.5677459),\n",
    "          'Hong Kong': (114.1628131, 22.2793278),\n",
    "          'Yokohama': (139.636768, 35.444991),\n",
    "          'San Francisco': (-122.4629897, 37.7647993),\n",
    "          'New York': (-73.9866136, 40.7306458)}\n",
    "```\n",
    "The results could look like this:\n",
    "![](figures/4a2.png)"
   ]
  },
  {
   "cell_type": "code",
   "execution_count": null,
   "id": "fe6c8025",
   "metadata": {},
   "outputs": [],
   "source": []
  },
  {
   "cell_type": "markdown",
   "id": "ec184338",
   "metadata": {},
   "source": [
    "## <span style=\"color:green\">Solutions</span>"
   ]
  },
  {
   "cell_type": "code",
   "execution_count": null,
   "id": "9fc99d3d",
   "metadata": {},
   "outputs": [],
   "source": [
    "# 1. Load the ERA5 wind data taken at different heights (heights are in hPa). \n",
    "# Plot the u- and v-components at a certain height and at a certian time.\n",
    "# mark and label Utrecht in two projections of your choice that are not PlateCarree. \n",
    "# Use both xarray's built-in plotting and the matplotlib approach (see above).\n",
    "# Use the u- and- components to create a vector plot (quiver) over `stock_img()`. \n",
    "# Hint: use the command scale to make sure that the arrows are visibile, \n",
    "# the scale will probablly set to abougt 400.\n",
    "\n",
    "ds = xr.tutorial.open_dataset(name='eraint_uvz')\n",
    "\n",
    "fig = plt.figure(figsize=(6.4,4))\n",
    "p=ds.isel(month=0,level=2).u.plot(subplot_kws=dict(projection=ccrs.EqualEarth(central_longitude=-90), facecolor=\"lightgray\"),\n",
    "    transform=ccrs.PlateCarree())\n",
    "ax = p.axes\n",
    "ax.coastlines()\n",
    "ax.gridlines()\n",
    "ax.set_extent([-12,10,47,60])\n",
    "ax.set_title('')\n",
    "ax.scatter(5.1, 50.1, transform=ccrs.PlateCarree())\n",
    "ax.text(5.1, 50.1, 'Utrecht', transform=ccrs.PlateCarree())\n",
    "ax.gridlines(color='black', lw=.5, draw_labels=True, linestyle='--')\n",
    "plt.savefig('figures/4a11')\n",
    "\n",
    "fig = plt.figure(figsize=(6.4,4))\n",
    "p=ds.isel(month=0,level=2).v.plot(subplot_kws=dict(projection=ccrs.EqualEarth(central_longitude=-90), facecolor=\"lightgray\"),\n",
    "    transform=ccrs.PlateCarree())\n",
    "ax = p.axes\n",
    "ax.coastlines()\n",
    "ax.gridlines()\n",
    "ax.set_extent([-12,10,47,60])\n",
    "ax.set_title('')\n",
    "ax.scatter(5.1, 50.1, transform=ccrs.PlateCarree())\n",
    "ax.text(5.1, 50.1, 'Utrecht', transform=ccrs.PlateCarree())\n",
    "ax.gridlines(color='black', lw=.5, draw_labels=True, linestyle='--')\n",
    "plt.savefig('figures/4a12')\n",
    "\n",
    "fig = plt.figure(figsize=(6.4,4))\n",
    "ax = plt.axes(projection=ccrs.EquidistantConic(standard_parallels=50.0))\n",
    "ax.stock_img()\n",
    "ax.set_extent([-20,20,48,58])\n",
    "lons, lats = np.meshgrid(ds.longitude, ds.latitude)\n",
    "Uu = np.array(ds.isel(month=0,level=2).u)\n",
    "Vv = np.array(ds.isel(month=0,level=2).v)\n",
    "#Uu, Vv = np.meshgrid(ds.isel(month=0,level=0).u, ds.isel(month=0,level=0).v)\n",
    "im = ax.quiver(lons, lats, Uu, Vv, transform=ccrs.PlateCarree(),scale=4E2)\n",
    "plt.colorbar(im, ax=ax, orientation='horizontal', label='temperature standard deviation [K]')\n",
    "ax.coastlines()\n",
    "ax.gridlines(color='orange', lw=.5, draw_labels=True, linestyle='--')\n",
    "plt.savefig('figures/4a13')"
   ]
  },
  {
   "cell_type": "code",
   "execution_count": null,
   "id": "5b6155ed",
   "metadata": {},
   "outputs": [],
   "source": [
    "# 2. Recreate the travel map of Phileas Fogg of Jules Verne's \n",
    "# _Around the World in Eighty Days_ using geodetics (true shortest paths) \n",
    "# and marking the cities as in the Wikipedia article:\n",
    "#  A. Recreate the journey on a Robinson projection.\n",
    "#  B. Phileas never left the Northern Hemisphere (and thus did not truly \n",
    "#     circumnavigate the Earth), so we can plot the full journey\n",
    "#     in a projection centered around the North Pole.\n",
    "\n",
    "places = {'London': (-0.1276474, 51.5073219),\n",
    "          'Suez': (32.537086, 29.974498),\n",
    "          'Bombay': (72.8882172, 19.1334321),\n",
    "          'Calcutta': (88.3476023, 22.5677459),\n",
    "          'Hong Kong': (114.1628131, 22.2793278),\n",
    "          'Yokohama': (139.636768, 35.444991),\n",
    "          'San Francisco': (-122.4629897, 37.7647993),\n",
    "          'New York': (-73.9866136, 40.7306458)}\n",
    "cities = list(places.keys())\n",
    "\n",
    "fig = plt.figure(figsize=(15,10))\n",
    "ax1 = fig.add_axes([0,0,.6,1], projection=ccrs.Robinson(central_longitude=11.25))\n",
    "ax2 = fig.add_axes([.65,0,.3,1], projection=ccrs.Orthographic(central_latitude=90))\n",
    "ax1.set_global()\n",
    "\n",
    "ax2.stock_img()\n",
    "ax1.coastlines()\n",
    "for ax in [ax1, ax2]:\n",
    "    ax.gridlines(color='gray', linestyle='--')\n",
    "for i in range(len(cities)):\n",
    "    city1 = cities[i]\n",
    "    if i<len(cities)-1:\n",
    "        city2 = cities[i+1]\n",
    "    elif i==len(cities)-1:\n",
    "        city2 = cities[0]\n",
    "    lat1, lon1 = places[city1][1], places[city1][0]\n",
    "    lat2, lon2 = places[city2][1], places[city2][0]\n",
    "    ax1.text(lon1, lat1, city1, rotation=60, transform=ccrs.PlateCarree(),\n",
    "             fontsize=16, bbox={'facecolor':'red', 'alpha':.7})\n",
    "    ax1.plot([lon1,lon2],[lat1,lat2], transform=ccrs.Geodetic())\n",
    "    \n",
    "    ax2.plot([lon1,lon2],[lat1,lat2], c='C0', transform=ccrs.Geodetic())\n",
    "    ax2.text(lon1, lat1, city1, transform=ccrs.PlateCarree(), fontsize=16)\n",
    "plt.savefig('figures/4a2')"
   ]
  },
  {
   "cell_type": "code",
   "execution_count": null,
   "id": "840fa9fd",
   "metadata": {},
   "outputs": [],
   "source": []
  }
 ],
 "metadata": {
  "kernelspec": {
   "display_name": "Python 3",
   "language": "python",
   "name": "python3"
  },
  "language_info": {
   "codemirror_mode": {
    "name": "ipython",
    "version": 3
   },
   "file_extension": ".py",
   "mimetype": "text/x-python",
   "name": "python",
   "nbconvert_exporter": "python",
   "pygments_lexer": "ipython3",
   "version": "3.9.5"
  }
 },
 "nbformat": 4,
 "nbformat_minor": 5
}
